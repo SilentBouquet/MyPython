{
 "cells": [
  {
   "cell_type": "code",
   "id": "initial_id",
   "metadata": {
    "collapsed": true,
    "ExecuteTime": {
     "end_time": "2025-04-30T07:49:04.402742Z",
     "start_time": "2025-04-30T07:46:56.640473Z"
    }
   },
   "source": [
    "import pandas as pd\n",
    "from datasets import DatasetDict\n",
    "from collections import defaultdict\n",
    "from datasets import get_dataset_config_names, load_dataset\n",
    "from torch.nn import CrossEntropyLoss\n",
    "\n",
    "# 查看数据集\n",
    "xtreme_subsets = get_dataset_config_names('xtreme')\n",
    "print(f\"XTREME has {len(xtreme_subsets)} configurations\")\n",
    "\n",
    "panx_subsets = [s for s in xtreme_subsets if s.startswith('PAN')]\n",
    "print(panx_subsets[:3])\n",
    "\n",
    "# 构建真实的瑞士语语料库\n",
    "langs = [\"de\", \"fr\", \"it\", \"en\"]\n",
    "fracs = [0.629, 0.229, 0.084, 0.059]\n",
    "panx_ch = defaultdict(DatasetDict)\n",
    "\n",
    "for lang, frac in zip(langs, fracs):\n",
    "    ds = load_dataset('xtreme', name=f\"PAN-X.{lang}\")\n",
    "    for split in ds:\n",
    "        # 使用 select 方法选取从索引 0 开始到计算出的数量减 1 的行\n",
    "        panx_ch[lang][split] = (\n",
    "            ds[split].shuffle(seed=0).select(range(int(frac * ds[split].num_rows)))\n",
    "        )\n",
    "\n",
    "# 查看训练集中每种语言的实例数量\n",
    "df = pd.DataFrame({lang: [panx_ch[lang][\"train\"].num_rows,\n",
    "                          panx_ch[lang][\"test\"].num_rows,\n",
    "                          panx_ch[lang][\"validation\"].num_rows] for lang in langs}, index=[\"Train\", \"Test\", \"Validation\"])\n",
    "print(df)\n",
    "\n",
    "# 从德语语料库中抽一个样本\n",
    "element = panx_ch[\"de\"][\"train\"][0]\n",
    "for key, value in element.items():\n",
    "    print(f\"{key}: {value}\")"
   ],
   "outputs": [
    {
     "name": "stdout",
     "output_type": "stream",
     "text": [
      "XTREME has 183 configurations\n",
      "['PAN-X.af', 'PAN-X.ar', 'PAN-X.bg']\n",
      "               de    fr    it    en\n",
      "Train       12580  4580  1680  1180\n",
      "Test         6290  2290   840   590\n",
      "Validation   6290  2290   840   590\n",
      "tokens: ['2.000', 'Einwohnern', 'an', 'der', 'Danziger', 'Bucht', 'in', 'der', 'polnischen', 'Woiwodschaft', 'Pommern', '.']\n",
      "ner_tags: [0, 0, 0, 0, 5, 6, 0, 0, 5, 5, 6, 0]\n",
      "langs: ['de', 'de', 'de', 'de', 'de', 'de', 'de', 'de', 'de', 'de', 'de', 'de']\n"
     ]
    }
   ],
   "execution_count": 2
  },
  {
   "metadata": {
    "ExecuteTime": {
     "end_time": "2025-04-30T07:49:43.664296Z",
     "start_time": "2025-04-30T07:49:43.659947Z"
    }
   },
   "cell_type": "code",
   "source": [
    "for key, value in panx_ch[\"de\"][\"train\"].features.items():\n",
    "    print(f\"{key}: {value}\")\n",
    "    \n",
    "# 提取特征列表\n",
    "tags = panx_ch[\"de\"][\"train\"].features[\"ner_tags\"].feature\n",
    "print(tags)"
   ],
   "id": "fce59412c7eb0907",
   "outputs": [
    {
     "name": "stdout",
     "output_type": "stream",
     "text": [
      "tokens: Sequence(feature=Value(dtype='string', id=None), length=-1, id=None)\n",
      "ner_tags: Sequence(feature=ClassLabel(names=['O', 'B-PER', 'I-PER', 'B-ORG', 'I-ORG', 'B-LOC', 'I-LOC'], id=None), length=-1, id=None)\n",
      "langs: Sequence(feature=Value(dtype='string', id=None), length=-1, id=None)\n",
      "ClassLabel(names=['O', 'B-PER', 'I-PER', 'B-ORG', 'I-ORG', 'B-LOC', 'I-LOC'], id=None)\n"
     ]
    }
   ],
   "execution_count": 3
  },
  {
   "metadata": {
    "ExecuteTime": {
     "end_time": "2025-04-30T07:49:48.665751Z",
     "start_time": "2025-04-30T07:49:48.638750Z"
    }
   },
   "cell_type": "code",
   "source": [
    "def create_tag_names(batch):\n",
    "    return {\"ner_tags_str\": [tags.int2str(idx) for idx in batch[\"ner_tags\"]]}\n",
    "\n",
    "panx_de = panx_ch[\"de\"].map(create_tag_names)\n",
    "\n",
    "de_example = panx_de[\"train\"][0]\n",
    "df = pd.DataFrame([de_example[\"tokens\"], de_example[\"ner_tags\"], de_example[\"ner_tags_str\"]])\n",
    "print(df)"
   ],
   "id": "1f6d4e6a32498abb",
   "outputs": [
    {
     "name": "stdout",
     "output_type": "stream",
     "text": [
      "      0           1   2    3         4      5   6    7           8   \\\n",
      "0  2.000  Einwohnern  an  der  Danziger  Bucht  in  der  polnischen   \n",
      "1      0           0   0    0         5      6   0    0           5   \n",
      "2      O           O   O    O     B-LOC  I-LOC   O    O       B-LOC   \n",
      "\n",
      "             9        10 11  \n",
      "0  Woiwodschaft  Pommern  .  \n",
      "1             5        6  0  \n",
      "2         B-LOC    I-LOC  O  \n"
     ]
    }
   ],
   "execution_count": 4
  },
  {
   "metadata": {
    "ExecuteTime": {
     "end_time": "2025-04-30T07:49:51.813209Z",
     "start_time": "2025-04-30T07:49:51.566153Z"
    }
   },
   "cell_type": "code",
   "source": [
    "# 计算每个拆分中每个实体的频率\n",
    "from collections import Counter\n",
    "\n",
    "split2freqs = defaultdict(Counter)\n",
    "for split, dataset in panx_de.items():\n",
    "    for row in dataset[\"ner_tags_str\"]:\n",
    "        for tag in row:\n",
    "            if tag.startswith(\"B\"):\n",
    "                tag_type = tag.split(\"-\")[1]\n",
    "                split2freqs[split][tag_type] += 1\n",
    "df = pd.DataFrame.from_dict(split2freqs, orient=\"index\")\n",
    "print(df)"
   ],
   "id": "1bef9eeb3d8c5a90",
   "outputs": [
    {
     "name": "stdout",
     "output_type": "stream",
     "text": [
      "             LOC   ORG   PER\n",
      "train       6186  5366  5810\n",
      "validation  3172  2683  2893\n",
      "test        3180  2573  3071\n"
     ]
    }
   ],
   "execution_count": 5
  },
  {
   "metadata": {
    "ExecuteTime": {
     "end_time": "2025-04-30T07:50:00.134023Z",
     "start_time": "2025-04-30T07:49:55.260196Z"
    }
   },
   "cell_type": "code",
   "source": [
    "# 多语言词元化技术\n",
    "from transformers import AutoTokenizer\n",
    "\n",
    "bert_model_name = \"bert-base-cased\"\n",
    "xlmr_model_name = \"xlm-roberta-base\"\n",
    "bert_tokenizer = AutoTokenizer.from_pretrained(bert_model_name)\n",
    "xlmr_tokenizer = AutoTokenizer.from_pretrained(xlmr_model_name)\n",
    "\n",
    "# 比较SentencePiece与WordPiece\n",
    "text = \"Jack Sparrow loves New York!\"\n",
    "bert_tokens = bert_tokenizer(text).tokens()\n",
    "xlmr_tokens = xlmr_tokenizer(text).tokens()\n",
    "print(bert_tokens)\n",
    "print(xlmr_tokens)\n",
    "\n",
    "# 反词元化序列（无歧义的）\n",
    "xlmr_sentence = \"\".join(xlmr_tokens).replace(u\"\\u2581\", \" \")\n",
    "print(xlmr_sentence)"
   ],
   "id": "2c1d43159c4a75fa",
   "outputs": [
    {
     "name": "stdout",
     "output_type": "stream",
     "text": [
      "['[CLS]', 'Jack', 'Spa', '##rrow', 'loves', 'New', 'York', '!', '[SEP]']\n",
      "['<s>', '▁Jack', '▁Spar', 'row', '▁love', 's', '▁New', '▁York', '!', '</s>']\n",
      "<s> Jack Sparrow loves New York!</s>\n"
     ]
    }
   ],
   "execution_count": 6
  },
  {
   "metadata": {
    "ExecuteTime": {
     "end_time": "2025-04-30T09:26:07.270444Z",
     "start_time": "2025-04-30T09:26:05.013287Z"
    }
   },
   "cell_type": "code",
   "source": [
    "# 自定义Hugging Face Transformers库模型类\n",
    "# 创建用于词元分类的自定义模型\n",
    "# 构建用于词元分类的XLM-R类\n",
    "import torch\n",
    "import torch.nn as nn\n",
    "from transformers import AutoConfig\n",
    "from transformers import XLMRobertaConfig\n",
    "from transformers.modeling_outputs import TokenClassifierOutput\n",
    "from transformers.models.roberta.modeling_roberta import RobertaModel\n",
    "from transformers.models.roberta.modeling_roberta import RobertaPreTrainedModel\n",
    "\n",
    "class XLMRobertaForTokenClassification(RobertaPreTrainedModel):\n",
    "    config_class = XLMRobertaConfig\n",
    "    \n",
    "    def __init__(self, config):\n",
    "        super().__init__(config)\n",
    "        self.num_labels = config.num_labels\n",
    "        self.roberta = RobertaModel(config, add_pooling_layer=False)\n",
    "        self.dropout = nn.Dropout(config.hidden_dropout_prob)\n",
    "        self.classifier = nn.Linear(config.hidden_size, config.num_labels)\n",
    "        self.init_weights()\n",
    "    \n",
    "    def forward(self, input_ids=None, token_type_ids=None, attention_mask=None, labels=None, \n",
    "                num_items_in_batch=None, **kwargs):\n",
    "        outputs = self.roberta(input_ids, token_type_ids, attention_mask, **kwargs)\n",
    "        sequence_output = self.dropout(outputs[0])\n",
    "        logits = self.classifier(sequence_output)\n",
    "        loss = None\n",
    "        if labels is not None:\n",
    "            loss_fct = CrossEntropyLoss()\n",
    "            # view 方法对张量进行 reshape 操作\n",
    "            loss = loss_fct(logits.view(-1, self.num_labels), labels.view(-1))\n",
    "        return TokenClassifierOutput(loss, logits, outputs.hidden_states, outputs.attentions)\n",
    "    \n",
    "# 加载自定义模型\n",
    "# 建立映射关系\n",
    "index2tag = {idx: tag for idx, tag in enumerate(tags.names)}\n",
    "tag2index = {tag: idx for idx, tag in enumerate(tags.names)}\n",
    "xlmr_config = AutoConfig.from_pretrained(xlmr_model_name,\n",
    "                                                num_labels=tags.num_classes, id2label=index2tag, label2id=tag2index)\n",
    "    \n",
    "device = torch.device(\"cuda\" if torch.cuda.is_available() else \"cpu\")\n",
    "xlmr_model = XLMRobertaForTokenClassification.from_pretrained(xlmr_model_name, config=xlmr_config).to(device)\n",
    "    \n",
    "# 测试\n",
    "input_ids = xlmr_tokenizer.encode(text, return_tensors=\"pt\")\n",
    "df = pd.DataFrame([xlmr_tokens, input_ids[0].numpy()], index=[\"Token\", \"Input IDs\"])\n",
    "print(df)"
   ],
   "id": "729091238dd40a61",
   "outputs": [
    {
     "name": "stdout",
     "output_type": "stream",
     "text": [
      "             0      1      2      3      4  5     6      7   8     9\n",
      "Token      <s>  ▁Jack  ▁Spar    row  ▁love  s  ▁New  ▁York   !  </s>\n",
      "Input IDs    0  21763  37456  15555   5161  7  2356   5753  38     2\n"
     ]
    }
   ],
   "execution_count": 32
  },
  {
   "metadata": {
    "ExecuteTime": {
     "end_time": "2025-04-30T09:26:09.025818Z",
     "start_time": "2025-04-30T09:26:08.809464Z"
    }
   },
   "cell_type": "code",
   "source": [
    "# 提取预测结果\n",
    "outputs = xlmr_model(input_ids.to(device)).logits\n",
    "predictions = torch.argmax(outputs, dim=-1)\n",
    "print(\"Number of tokens in sequence: \", len(xlmr_tokens))\n",
    "print(\"Shape of outputs: \", outputs.shape)\n",
    "print(\"Shape of predictions: \", predictions.shape)\n",
    "\n",
    "# 查看预测结果\n",
    "preds = [tags.names[p] for p in predictions[0].cpu().numpy()]\n",
    "df = pd.DataFrame([xlmr_tokens, preds], index=[\"Tokens\", \"Tags\"])\n",
    "print(df)\n",
    "\n",
    "\n",
    "# 封装函数\n",
    "def tag_text(text, tags, model, tokenizer):\n",
    "    tokens = tokenizer(text).tokens()\n",
    "    input_ids = xlmr_tokenizer(text, return_tensors=\"pt\").input_ids.to(device)\n",
    "    outputs = model(input_ids)[0]\n",
    "    predictions = torch.argmax(outputs, dim=2)\n",
    "    preds = [tags.names[p] for p in predictions[0].cpu().numpy()]\n",
    "    return pd.DataFrame([tokens, preds], index=[\"Tokens\", \"Tags\"])"
   ],
   "id": "d8ba632243ba3748",
   "outputs": [
    {
     "name": "stdout",
     "output_type": "stream",
     "text": [
      "Number of tokens in sequence:  10\n",
      "Shape of outputs:  torch.Size([1, 10, 7])\n",
      "Shape of predictions:  torch.Size([1, 10])\n",
      "            0      1      2      3      4      5      6      7      8      9\n",
      "Tokens    <s>  ▁Jack  ▁Spar    row  ▁love      s   ▁New  ▁York      !   </s>\n",
      "Tags    I-LOC  I-LOC  I-LOC  I-LOC  I-LOC  I-LOC  I-LOC  I-LOC  I-LOC  I-LOC\n"
     ]
    }
   ],
   "execution_count": 33
  },
  {
   "metadata": {
    "ExecuteTime": {
     "end_time": "2025-04-30T09:26:11.268200Z",
     "start_time": "2025-04-30T09:26:11.202955Z"
    }
   },
   "cell_type": "code",
   "source": [
    "# 构建编码的数据集\n",
    "# function(examples: Dict[str, List]) -> Dict[str, List]\n",
    "words, labels = de_example[\"tokens\"], de_example[\"ner_tags\"]\n",
    "tokenized_input = xlmr_tokenizer(de_example[\"tokens\"], return_tensors=\"pt\", is_split_into_words=True)\n",
    "tokens = xlmr_tokenizer.convert_ids_to_tokens(tokenized_input[\"input_ids\"][0])\n",
    "df = pd.DataFrame([tokens], index=[\"Tokens\"])\n",
    "print(df)\n",
    "\n",
    "# 掩码子词表示\n",
    "word_ids = tokenized_input.word_ids()\n",
    "df = pd.DataFrame([tokens, word_ids], index=[\"Tokens\", \"Word IDs\"])\n",
    "print(df)\n",
    "\n",
    "previous_word_idx = None\n",
    "label_ids = []\n",
    "for word_idx in word_ids:\n",
    "    if word_idx is None or word_idx == previous_word_idx:\n",
    "        label_ids.append(-100)\n",
    "    elif word_idx != previous_word_idx:\n",
    "        label_ids.append(labels[word_idx])\n",
    "    previous_word_idx = word_idx\n",
    "\n",
    "labels = [index2tag[l] if l != -100 else \"IGN\" for l in label_ids]\n",
    "index = [\"Tokens\", \"Word IDs\", \"Label IDs\", \"Labels\"]\n",
    "df = pd.DataFrame([tokens, word_ids, label_ids, labels], index=index)\n",
    "print(df)\n",
    "\n",
    "\n",
    "# 函数封装\n",
    "def tokenize_and_align_labels(examples):\n",
    "    # truncation=True：启用截断，确保输入长度不超过模型的最大长度\n",
    "    tokenized_inputs = xlmr_tokenizer(examples[\"tokens\"], truncation=True, is_split_into_words=True)\n",
    "    labels = []\n",
    "    for idx, label in enumerate(examples[\"ner_tags\"]):\n",
    "        word_ids = tokenized_inputs.word_ids(batch_index=idx)\n",
    "        previous_word_idx = None\n",
    "        label_ids = []\n",
    "        for word_idx in word_ids:\n",
    "            if word_idx is None or word_idx == previous_word_idx:\n",
    "                label_ids.append(-100)\n",
    "            elif word_idx != previous_word_idx:\n",
    "                label_ids.append(label[word_idx])\n",
    "            previous_word_idx = word_idx\n",
    "        labels.append(label_ids)\n",
    "    tokenized_inputs[\"labels\"] = labels\n",
    "    return tokenized_inputs\n",
    "\n",
    "\n",
    "def encode_panx_dataset(corpus):\n",
    "    return corpus.map(tokenize_and_align_labels, batched=True,\n",
    "                      remove_columns=[\"tokens\", \"ner_tags\", \"langs\"])\n",
    "\n",
    "\n",
    "panx_de_encoded = encode_panx_dataset(panx_ch[\"de\"])\n",
    "print(panx_de_encoded)"
   ],
   "id": "bf6f1373dfdec16e",
   "outputs": [
    {
     "name": "stdout",
     "output_type": "stream",
     "text": [
      "         0       1           2  3    4     5     6   7    8      9   ...   15  \\\n",
      "Tokens  <s>  ▁2.000  ▁Einwohner  n  ▁an  ▁der  ▁Dan  zi  ger  ▁Buch  ...  ▁Wo   \n",
      "\n",
      "       16   17      18   19    20 21 22 23    24  \n",
      "Tokens  i  wod  schaft  ▁Po  mmer  n  ▁  .  </s>  \n",
      "\n",
      "[1 rows x 25 columns]\n",
      "            0       1           2  3    4     5     6   7    8      9   ...  \\\n",
      "Tokens     <s>  ▁2.000  ▁Einwohner  n  ▁an  ▁der  ▁Dan  zi  ger  ▁Buch  ...   \n",
      "Word IDs  None       0           1  1    2     3     4   4    4      5  ...   \n",
      "\n",
      "           15 16   17      18   19    20  21  22  23    24  \n",
      "Tokens    ▁Wo  i  wod  schaft  ▁Po  mmer   n   ▁   .  </s>  \n",
      "Word IDs    9  9    9       9   10    10  10  11  11  None  \n",
      "\n",
      "[2 rows x 25 columns]\n",
      "             0       1           2     3    4     5      6     7     8   \\\n",
      "Tokens      <s>  ▁2.000  ▁Einwohner     n  ▁an  ▁der   ▁Dan    zi   ger   \n",
      "Word IDs   None       0           1     1    2     3      4     4     4   \n",
      "Label IDs  -100       0           0  -100    0     0      5  -100  -100   \n",
      "Labels      IGN       O           O   IGN    O     O  B-LOC   IGN   IGN   \n",
      "\n",
      "              9   ...     15    16    17      18     19    20    21  22    23  \\\n",
      "Tokens     ▁Buch  ...    ▁Wo     i   wod  schaft    ▁Po  mmer     n   ▁     .   \n",
      "Word IDs       5  ...      9     9     9       9     10    10    10  11    11   \n",
      "Label IDs      6  ...      5  -100  -100    -100      6  -100  -100   0  -100   \n",
      "Labels     I-LOC  ...  B-LOC   IGN   IGN     IGN  I-LOC   IGN   IGN   O   IGN   \n",
      "\n",
      "             24  \n",
      "Tokens     </s>  \n",
      "Word IDs   None  \n",
      "Label IDs  -100  \n",
      "Labels      IGN  \n",
      "\n",
      "[4 rows x 25 columns]\n",
      "DatasetDict({\n",
      "    train: Dataset({\n",
      "        features: ['input_ids', 'attention_mask', 'labels'],\n",
      "        num_rows: 12580\n",
      "    })\n",
      "    validation: Dataset({\n",
      "        features: ['input_ids', 'attention_mask', 'labels'],\n",
      "        num_rows: 6290\n",
      "    })\n",
      "    test: Dataset({\n",
      "        features: ['input_ids', 'attention_mask', 'labels'],\n",
      "        num_rows: 6290\n",
      "    })\n",
      "})\n"
     ]
    }
   ],
   "execution_count": 34
  },
  {
   "metadata": {
    "ExecuteTime": {
     "end_time": "2025-04-30T09:26:14.648833Z",
     "start_time": "2025-04-30T09:26:14.637791Z"
    }
   },
   "cell_type": "code",
   "source": [
    "# 性能度量\n",
    "import numpy as np\n",
    "from seqeval.metrics import classification_report\n",
    "\n",
    "y_true = [[\"0\", \"0\", \"0\", \"B-MISC\", \"I-MISC\", \"I-MISC\", \"0\"], [\"B-MISC\", \"I-PER\", \"0\"]]\n",
    "y_pred = [[\"0\", \"0\", \"B-MISC\", \"I-MISC\", \"I-MISC\", \"I-MISC\", \"0\"], [\"B-MISC\", \"I-PER\", \"0\"]]\n",
    "print(classification_report(y_true, y_pred))\n",
    "\n",
    "\n",
    "# 将模型输出转换成seqeval所期望的列表的函数\n",
    "def align_predictions(predictions, label_ids):\n",
    "    preds = np.argmax(predictions, axis=2)\n",
    "    batch_size, seq_len = preds.shape\n",
    "    labels_list, preds_list = [], []\n",
    "    \n",
    "    for batch_idx in range(batch_size):\n",
    "        example_labels, example_preds = [], []\n",
    "        for seq_idx in range(seq_len):\n",
    "            if label_ids[batch_idx, seq_idx] != -100:\n",
    "                example_labels.append(index2tag[label_ids[batch_idx][seq_idx]])\n",
    "                example_preds.append(index2tag[preds[batch_idx][seq_idx]])\n",
    "        labels_list.append(example_labels)\n",
    "        preds_list.append(example_preds)\n",
    "    return preds_list, labels_list"
   ],
   "id": "903c706598442ee7",
   "outputs": [
    {
     "name": "stderr",
     "output_type": "stream",
     "text": [
      "D:\\Anaconda\\envs\\pytorch\\Lib\\site-packages\\seqeval\\metrics\\sequence_labeling.py:171: UserWarning: 0 seems not to be NE tag.\n",
      "  warnings.warn('{} seems not to be NE tag.'.format(chunk))\n"
     ]
    },
    {
     "name": "stdout",
     "output_type": "stream",
     "text": [
      "              precision    recall  f1-score   support\n",
      "\n",
      "        MISC       0.50      0.50      0.50         2\n",
      "         PER       1.00      1.00      1.00         1\n",
      "           _       0.00      0.00      0.00         1\n",
      "\n",
      "   micro avg       0.50      0.50      0.50         4\n",
      "   macro avg       0.50      0.50      0.50         4\n",
      "weighted avg       0.50      0.50      0.50         4\n",
      "\n"
     ]
    }
   ],
   "execution_count": 35
  },
  {
   "metadata": {
    "jupyter": {
     "is_executing": true
    }
   },
   "cell_type": "code",
   "source": [
    "# 微调XLM-RoBERTa\n",
    "# 在PAN-X数据集的德语子集上进行微调，然后评估在其他语言上的零样本性能\n",
    "from huggingface_hub import login\n",
    "from seqeval.metrics import f1_score\n",
    "from transformers import TrainingArguments, Trainer\n",
    "from transformers import DataCollatorForTokenClassification\n",
    "\n",
    "# 登录到 Hugging Face 平台\n",
    "\n",
    "num_epochs = 3\n",
    "batch_size = 24\n",
    "path = 'D:/pycharm/python项目/PyTorch/Runs/'\n",
    "logging_steps = len(panx_de_encoded[\"train\"]) // batch_size\n",
    "model_name = f\"{xlmr_model_name}-finetuned-panx-de\"\n",
    "training_args = TrainingArguments(\n",
    "    output_dir=path + model_name, log_level=\"error\", num_train_epochs=num_epochs,\n",
    "    per_device_train_batch_size=batch_size, per_device_eval_batch_size=batch_size,\n",
    "    evaluation_strategy=\"epoch\", save_steps=1e6, weight_decay=0.01,\n",
    "    disable_tqdm=False, logging_steps=logging_steps, push_to_hub=True\n",
    ")\n",
    "\n",
    "\n",
    "# 定义如何在验证集上计算指标\n",
    "def compute_metrics(eval_pred):\n",
    "    y_pred, y_true = align_predictions(eval_pred.predictions, eval_pred.label_ids)\n",
    "    return {\"f1\": f1_score(y_true, y_pred)}\n",
    "\n",
    "\n",
    "# 模型初始化\n",
    "def model_init():\n",
    "    return XLMRobertaForTokenClassification.from_pretrained(\n",
    "        xlmr_model_name, config=xlmr_config).to(device)\n",
    "\n",
    "\n",
    "# 定义数据整理器\n",
    "data_collator = DataCollatorForTokenClassification(tokenizer=xlmr_tokenizer)\n",
    "\n",
    "trainer = Trainer(\n",
    "    model_init=model_init, args=training_args,\n",
    "    compute_metrics=compute_metrics, train_dataset=panx_de_encoded[\"train\"],\n",
    "    eval_dataset=panx_de_encoded[\"validation\"], tokenizer=xlmr_tokenizer\n",
    ")\n",
    "\n",
    "trainer.train()\n",
    "trainer.push_to_hub(commit_message=\"Training Completed!\")"
   ],
   "id": "363da4057026fa11",
   "outputs": [],
   "execution_count": null
  },
  {
   "metadata": {},
   "cell_type": "code",
   "outputs": [],
   "execution_count": null,
   "source": "",
   "id": "9a17c10b4719f713"
  }
 ],
 "metadata": {
  "kernelspec": {
   "display_name": "Python [conda env:pytorch]",
   "language": "python",
   "name": "conda-env-pytorch-py"
  },
  "language_info": {
   "codemirror_mode": {
    "name": "ipython",
    "version": 2
   },
   "file_extension": ".py",
   "mimetype": "text/x-python",
   "name": "python",
   "nbconvert_exporter": "python",
   "pygments_lexer": "ipython2",
   "version": "2.7.6"
  }
 },
 "nbformat": 4,
 "nbformat_minor": 5
}
